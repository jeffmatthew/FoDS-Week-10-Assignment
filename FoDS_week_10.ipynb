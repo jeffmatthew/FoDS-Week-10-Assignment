{
  "nbformat": 4,
  "nbformat_minor": 0,
  "metadata": {
    "colab": {
      "provenance": []
    },
    "kernelspec": {
      "name": "python3",
      "display_name": "Python 3"
    },
    "language_info": {
      "name": "python"
    }
  },
  "cells": [
    {
      "cell_type": "code",
      "execution_count": 1,
      "metadata": {
        "id": "jzRyAsVRbaEX"
      },
      "outputs": [],
      "source": [
        "import pandas as pd\n",
        "from math import sqrt\n",
        "import numpy as np"
      ]
    },
    {
      "cell_type": "code",
      "source": [
        "movies_df = pd.read_csv('movies.csv')\n",
        "ratings_df = pd.read_csv('ratings.csv')\n",
        "print(movies_df.info())"
      ],
      "metadata": {
        "colab": {
          "base_uri": "https://localhost:8080/"
        },
        "id": "9V_93nIfbthZ",
        "outputId": "6fa97d26-c02e-44c6-9ef8-cdbb218d34e0"
      },
      "execution_count": 2,
      "outputs": [
        {
          "output_type": "stream",
          "name": "stdout",
          "text": [
            "<class 'pandas.core.frame.DataFrame'>\n",
            "RangeIndex: 9742 entries, 0 to 9741\n",
            "Data columns (total 3 columns):\n",
            " #   Column   Non-Null Count  Dtype \n",
            "---  ------   --------------  ----- \n",
            " 0   movieId  9742 non-null   int64 \n",
            " 1   title    9742 non-null   object\n",
            " 2   genres   9742 non-null   object\n",
            "dtypes: int64(1), object(2)\n",
            "memory usage: 228.5+ KB\n",
            "None\n"
          ]
        }
      ]
    },
    {
      "cell_type": "code",
      "source": [
        "userInput = [{'title':'Toy Story (1995)', 'rating':4},\n",
        "             {'title':'Mortal Kombat (1995)', 'rating':1},\n",
        "             {'title':'Postman, The (Postino, Il) (1994)', 'rating':3},\n",
        "             {'title':'Broken Arrow (1996)', 'rating':4},\n",
        "             {'title':'Lawnmower Man 2: Beyond Cyberspace (1996)', 'rating':3}]\n",
        "inputMovies = pd.DataFrame(userInput)\n",
        "print(inputMovies)"
      ],
      "metadata": {
        "colab": {
          "base_uri": "https://localhost:8080/"
        },
        "id": "FEyn8Lesb2Ar",
        "outputId": "1716feaa-d8a2-46c6-c291-506bbbd6d58b"
      },
      "execution_count": 3,
      "outputs": [
        {
          "output_type": "stream",
          "name": "stdout",
          "text": [
            "                                       title  rating\n",
            "0                           Toy Story (1995)       4\n",
            "1                       Mortal Kombat (1995)       1\n",
            "2          Postman, The (Postino, Il) (1994)       3\n",
            "3                        Broken Arrow (1996)       4\n",
            "4  Lawnmower Man 2: Beyond Cyberspace (1996)       3\n"
          ]
        }
      ]
    },
    {
      "cell_type": "code",
      "source": [
        "inputId = movies_df[movies_df['title'].isin(inputMovies['title'].tolist())]\n",
        "inputMovies = pd.merge(inputId, inputMovies)\n",
        "inputMovies = inputMovies[['movieId','title','rating']]\n",
        "print(inputMovies)"
      ],
      "metadata": {
        "colab": {
          "base_uri": "https://localhost:8080/"
        },
        "id": "BdloZF_BdKLG",
        "outputId": "262f9e2a-4494-4f91-9942-842e39a4ca7a"
      },
      "execution_count": 4,
      "outputs": [
        {
          "output_type": "stream",
          "name": "stdout",
          "text": [
            "   movieId                                      title  rating\n",
            "0        1                           Toy Story (1995)       4\n",
            "1       44                       Mortal Kombat (1995)       1\n",
            "2       58          Postman, The (Postino, Il) (1994)       3\n",
            "3       66  Lawnmower Man 2: Beyond Cyberspace (1996)       3\n",
            "4       95                        Broken Arrow (1996)       4\n"
          ]
        }
      ]
    },
    {
      "cell_type": "code",
      "source": [
        "userSubset = ratings_df[ratings_df['movieId'].isin(inputMovies['movieId'].tolist())]\n",
        "print(userSubset.groupby('movieId').count())"
      ],
      "metadata": {
        "colab": {
          "base_uri": "https://localhost:8080/"
        },
        "id": "0JXNnKWtdLaG",
        "outputId": "6c29cf40-4142-4ce8-f2c3-020b687d95bd"
      },
      "execution_count": 5,
      "outputs": [
        {
          "output_type": "stream",
          "name": "stdout",
          "text": [
            "         userId  rating  timestamp\n",
            "movieId                           \n",
            "1           215     215        215\n",
            "44           46      46         46\n",
            "58           37      37         37\n",
            "66            9       9          9\n",
            "95           84      84         84\n"
          ]
        }
      ]
    },
    {
      "cell_type": "code",
      "source": [
        "#Groupby creates several sub dataframes where they all have the same value in the column specified as the parameter\n",
        "userSubsetGroup = userSubset.groupby(['userId'])\n",
        "\n",
        "def take_5_elem(x):\n",
        "    # print (len(x[1]))\n",
        "    return len(x[1])\n"
      ],
      "metadata": {
        "id": "oZIsbWgddN4h"
      },
      "execution_count": 6,
      "outputs": []
    },
    {
      "cell_type": "code",
      "source": [
        "#Sorting it so users with movie most in common with the input will have priority\n",
        "userSubsetGroup = sorted(userSubsetGroup, key=take_5_elem, reverse=True)\n",
        "\n",
        "userSubsetGroup = userSubsetGroup[0:100]\n",
        "print(userSubsetGroup[0:5])"
      ],
      "metadata": {
        "colab": {
          "base_uri": "https://localhost:8080/"
        },
        "id": "ogSXWQtqdVgs",
        "outputId": "9e133b7e-6031-45bf-afa0-6725afc207d8"
      },
      "execution_count": 7,
      "outputs": [
        {
          "output_type": "stream",
          "name": "stdout",
          "text": [
            "[(559,        userId  movieId  rating  timestamp\n",
            "85984     559        1     5.0  865095758\n",
            "85995     559       58     4.0  865095758\n",
            "85996     559       66     3.0  865096234\n",
            "85998     559       95     4.0  865095801), (32,       userId  movieId  rating  timestamp\n",
            "4929      32        1     3.0  856736119\n",
            "4942      32       58     5.0  856736227\n",
            "4946      32       95     3.0  856736119), (44,       userId  movieId  rating  timestamp\n",
            "6429      44        1     3.0  869251860\n",
            "6436      44       66     3.0  869252563\n",
            "6438      44       95     4.0  869251861), (68,        userId  movieId  rating   timestamp\n",
            "10360      68        1     2.5  1158531426\n",
            "10377      68       44     3.0  1158534993\n",
            "10384      68       95     3.5  1158532180), (91,        userId  movieId  rating   timestamp\n",
            "14121      91        1     4.0  1112713037\n",
            "14138      91       58     2.0  1112710933\n",
            "14141      91       95     3.0  1112711260)]\n"
          ]
        },
        {
          "output_type": "stream",
          "name": "stderr",
          "text": [
            "<ipython-input-7-32bccce6b6e7>:2: FutureWarning: In a future version of pandas, a length 1 tuple will be returned when iterating over a groupby with a grouper equal to a list of length 1. Don't supply a list with a single grouper to avoid this warning.\n",
            "  userSubsetGroup = sorted(userSubsetGroup, key=take_5_elem, reverse=True)\n"
          ]
        }
      ]
    },
    {
      "cell_type": "code",
      "source": [
        "#Store the Pearson Correlation in a dictionary, where the key is the user Id and the value is the coefficient\n",
        "pearsonCorrelationDict = {}\n",
        "\n",
        "#For every user group in our subset\n",
        "for name, group in userSubsetGroup:\n",
        "\n",
        "    #Let's start by sorting the input and current user group so the values aren't mixed up later on\n",
        "    group = group.sort_values(by='movieId')\n",
        "    inputMovies = inputMovies.sort_values(by='movieId')\n",
        "\n",
        "    #Get the N for the formula\n",
        "    nRatings = len(group)\n",
        "\n",
        "    #Get the review scores for the movies that they both have in common\n",
        "    temp_df = inputMovies[inputMovies['movieId'].isin(group['movieId'].tolist())]\n",
        "\n",
        "    #And then store them in a temporary buffer variable in a list format to facilitate future calculations\n",
        "    tempRatingList = temp_df['rating'].tolist()\n",
        "\n",
        "    #Let's also put the current user group reviews in a list format\n",
        "    tempGroupList = group['rating'].tolist()\n",
        "\n",
        "\n",
        "    #Now let's calculate the pearson correlation between two users, so called, x and y manually (check the formula from week 7 slide)\n",
        "    Sxx = sum([i**2 for i in tempRatingList]) - pow(sum(tempRatingList),2)/float(nRatings)\n",
        "    Syy = sum([i**2 for i in tempGroupList]) - pow(sum(tempGroupList),2)/float(nRatings)\n",
        "    Sxy = sum( i*j for i, j in zip(tempRatingList, tempGroupList)) - sum(tempRatingList)*sum(tempGroupList)/float(nRatings)\n",
        "\n",
        "    #If the denominator is different than zero, then divide, else, 0 correlation.\n",
        "    if Sxx != 0 and Syy != 0:\n",
        "        pearsonCorrelationDict[name] = Sxy/sqrt(Sxx*Syy)\n",
        "    else:\n",
        "        pearsonCorrelationDict[name] = 0\n",
        "pearsonDF = pd.DataFrame.from_dict(pearsonCorrelationDict, orient='index')\n",
        "pearsonDF.columns = ['similarityIndex']\n",
        "pearsonDF['userId'] = pearsonDF.index\n",
        "pearsonDF.index = range(len(pearsonDF))\n",
        "print(pearsonDF.head())"
      ],
      "metadata": {
        "colab": {
          "base_uri": "https://localhost:8080/"
        },
        "id": "cyU-jifsdYzp",
        "outputId": "8fe90161-df6f-4b97-8132-e2e8c4649608"
      },
      "execution_count": 8,
      "outputs": [
        {
          "output_type": "stream",
          "name": "stdout",
          "text": [
            "   similarityIndex  userId\n",
            "0         0.707107     559\n",
            "1        -1.000000      32\n",
            "2         0.500000      44\n",
            "3         0.000000      68\n",
            "4         0.866025      91\n"
          ]
        }
      ]
    },
    {
      "cell_type": "code",
      "source": [
        "topUsers=pearsonDF.sort_values(by='similarityIndex', ascending=False)[0:50]\n",
        "print(topUsers.head())"
      ],
      "metadata": {
        "colab": {
          "base_uri": "https://localhost:8080/"
        },
        "id": "LWa4VMDfdjCG",
        "outputId": "80951ea4-4ead-4e87-97f4-46a65b59031f"
      },
      "execution_count": 9,
      "outputs": [
        {
          "output_type": "stream",
          "name": "stdout",
          "text": [
            "    similarityIndex  userId\n",
            "30              1.0      17\n",
            "79              1.0     514\n",
            "27              1.0       7\n",
            "26              1.0       6\n",
            "60              1.0     304\n"
          ]
        }
      ]
    },
    {
      "cell_type": "code",
      "source": [
        "topUsersRating=topUsers.merge(ratings_df, left_on='userId', right_on='userId', how='inner')\n",
        "print(topUsersRating.head(100))"
      ],
      "metadata": {
        "colab": {
          "base_uri": "https://localhost:8080/"
        },
        "id": "jq0CIePidmlw",
        "outputId": "85b30a9b-a000-446c-be78-9569d188bf4e"
      },
      "execution_count": 10,
      "outputs": [
        {
          "output_type": "stream",
          "name": "stdout",
          "text": [
            "    similarityIndex  userId  movieId  rating   timestamp\n",
            "0               1.0      17        1     4.5  1305696483\n",
            "1               1.0      17       44     3.5  1305696245\n",
            "2               1.0      17       47     4.0  1307262715\n",
            "3               1.0      17       50     4.5  1305697013\n",
            "4               1.0      17      110     4.5  1305696470\n",
            "..              ...     ...      ...     ...         ...\n",
            "95              1.0      17    60069     3.5  1305696839\n",
            "96              1.0      17    64839     3.5  1322629112\n",
            "97              1.0      17    68157     4.0  1305696894\n",
            "98              1.0      17    68358     4.5  1322629267\n",
            "99              1.0      17    77455     3.5  1307262449\n",
            "\n",
            "[100 rows x 5 columns]\n"
          ]
        }
      ]
    },
    {
      "cell_type": "code",
      "source": [
        "#Multiplies the similarity by the user’s ratings\n",
        "topUsersRating['weightedRating'] = topUsersRating['similarityIndex']*topUsersRating['rating']\n",
        "print(topUsersRating.head())"
      ],
      "metadata": {
        "colab": {
          "base_uri": "https://localhost:8080/"
        },
        "id": "aQWOgsZadou2",
        "outputId": "abab6af1-3454-4cba-85f2-3418c29d7cf7"
      },
      "execution_count": 11,
      "outputs": [
        {
          "output_type": "stream",
          "name": "stdout",
          "text": [
            "   similarityIndex  userId  movieId  rating   timestamp  weightedRating\n",
            "0              1.0      17        1     4.5  1305696483             4.5\n",
            "1              1.0      17       44     3.5  1305696245             3.5\n",
            "2              1.0      17       47     4.0  1307262715             4.0\n",
            "3              1.0      17       50     4.5  1305697013             4.5\n",
            "4              1.0      17      110     4.5  1305696470             4.5\n"
          ]
        }
      ]
    },
    {
      "cell_type": "code",
      "source": [
        "#Applies a sum to the topUsers after grouping it up by movieId\n",
        "tempTopUsersRating = topUsersRating.groupby('movieId').sum()[['similarityIndex','weightedRating']]\n",
        "tempTopUsersRating.columns = ['sum_similarityIndex','sum_weightedRating']\n",
        "print(tempTopUsersRating.head())"
      ],
      "metadata": {
        "colab": {
          "base_uri": "https://localhost:8080/"
        },
        "id": "A63Y9FX_dpsQ",
        "outputId": "18ad4b10-ac43-4118-f3e4-d5f84a18a13e"
      },
      "execution_count": 12,
      "outputs": [
        {
          "output_type": "stream",
          "name": "stdout",
          "text": [
            "         sum_similarityIndex  sum_weightedRating\n",
            "movieId                                         \n",
            "1                  26.921660          108.699596\n",
            "2                  16.720820           58.227726\n",
            "3                   9.202776           29.405552\n",
            "4                   1.000000            3.000000\n",
            "5                   5.944911           18.334734\n"
          ]
        }
      ]
    },
    {
      "cell_type": "code",
      "source": [
        "#Creates an empty dataframe\n",
        "recommendation_df = pd.DataFrame()\n",
        "\n",
        "#Now we take the weighted average\n",
        "recommendation_df['weighted average recommendation score'] = tempTopUsersRating['sum_weightedRating']/tempTopUsersRating['sum_similarityIndex']\n",
        "recommendation_df['movieId'] = tempTopUsersRating.index\n",
        "print(recommendation_df.head(10))"
      ],
      "metadata": {
        "colab": {
          "base_uri": "https://localhost:8080/"
        },
        "id": "NxrOY8kxdr5R",
        "outputId": "87fbb6de-f8d0-4afe-94f1-d782ac8a9da5"
      },
      "execution_count": 13,
      "outputs": [
        {
          "output_type": "stream",
          "name": "stdout",
          "text": [
            "         weighted average recommendation score  movieId\n",
            "movieId                                                \n",
            "1                                     4.037626        1\n",
            "2                                     3.482349        2\n",
            "3                                     3.195291        3\n",
            "4                                     3.000000        4\n",
            "5                                     3.084106        5\n",
            "6                                     4.103739        6\n",
            "7                                     3.181818        7\n",
            "8                                     3.000000        8\n",
            "9                                     4.071797        9\n",
            "10                                    3.576044       10\n"
          ]
        }
      ]
    },
    {
      "cell_type": "code",
      "source": [
        "recommendation_df = recommendation_df.sort_values(by='weighted average recommendation score', ascending=False)\n",
        "print(recommendation_df)"
      ],
      "metadata": {
        "colab": {
          "base_uri": "https://localhost:8080/"
        },
        "id": "BJev0CWsdt7r",
        "outputId": "b6fb878a-dfe3-4de2-9e30-5344edb0dd66"
      },
      "execution_count": 14,
      "outputs": [
        {
          "output_type": "stream",
          "name": "stdout",
          "text": [
            "         weighted average recommendation score  movieId\n",
            "movieId                                                \n",
            "334                                        5.0      334\n",
            "3925                                       5.0     3925\n",
            "3792                                       5.0     3792\n",
            "3813                                       5.0     3813\n",
            "8235                                       5.0     8235\n",
            "...                                        ...      ...\n",
            "171023                                     NaN   171023\n",
            "176101                                     NaN   176101\n",
            "180095                                     NaN   180095\n",
            "180777                                     NaN   180777\n",
            "185135                                     NaN   185135\n",
            "\n",
            "[5866 rows x 2 columns]\n"
          ]
        }
      ]
    },
    {
      "cell_type": "code",
      "source": [
        "recommended_movie=movies_df.loc[movies_df['movieId'].isin(recommendation_df['movieId'])]\n",
        "\n",
        "#we don't want to recommend the same movie\n",
        "recommended_movie=recommended_movie.loc[~recommended_movie.movieId.isin(userSubset['movieId'])]\n",
        "\n",
        "print(recommended_movie)"
      ],
      "metadata": {
        "colab": {
          "base_uri": "https://localhost:8080/"
        },
        "id": "b64uOWotdwvY",
        "outputId": "53bd2112-ec1b-4c97-ba50-56034eb5a250"
      },
      "execution_count": 15,
      "outputs": [
        {
          "output_type": "stream",
          "name": "stdout",
          "text": [
            "      movieId                                  title  \\\n",
            "1           2                         Jumanji (1995)   \n",
            "2           3                Grumpier Old Men (1995)   \n",
            "3           4               Waiting to Exhale (1995)   \n",
            "4           5     Father of the Bride Part II (1995)   \n",
            "5           6                            Heat (1995)   \n",
            "...       ...                                    ...   \n",
            "9706   186587                         Rampage (2018)   \n",
            "9707   187031  Jurassic World: Fallen Kingdom (2018)   \n",
            "9709   187593                      Deadpool 2 (2018)   \n",
            "9710   187595         Solo: A Star Wars Story (2018)   \n",
            "9716   188797                             Tag (2018)   \n",
            "\n",
            "                                      genres  \n",
            "1                 Adventure|Children|Fantasy  \n",
            "2                             Comedy|Romance  \n",
            "3                       Comedy|Drama|Romance  \n",
            "4                                     Comedy  \n",
            "5                      Action|Crime|Thriller  \n",
            "...                                      ...  \n",
            "9706                 Action|Adventure|Sci-Fi  \n",
            "9707  Action|Adventure|Drama|Sci-Fi|Thriller  \n",
            "9709                    Action|Comedy|Sci-Fi  \n",
            "9710        Action|Adventure|Children|Sci-Fi  \n",
            "9716                                  Comedy  \n",
            "\n",
            "[5861 rows x 3 columns]\n"
          ]
        }
      ]
    }
  ]
}